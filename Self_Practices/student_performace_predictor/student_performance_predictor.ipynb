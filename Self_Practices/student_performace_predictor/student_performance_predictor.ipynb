{
 "cells": [
  {
   "cell_type": "markdown",
   "id": "75725367",
   "metadata": {},
   "source": [
    "# Student Performance Predictor"
   ]
  },
  {
   "cell_type": "markdown",
   "id": "10139d6a",
   "metadata": {},
   "source": [
    "## Data Processing"
   ]
  },
  {
   "cell_type": "markdown",
   "id": "9ecae0bc",
   "metadata": {},
   "source": [
    "### Import Lib  "
   ]
  },
  {
   "cell_type": "code",
   "execution_count": 186,
   "id": "f15d47f1",
   "metadata": {},
   "outputs": [],
   "source": [
    "import numpy as np\n",
    "import matplotlib.pyplot as plt\n",
    "import pandas as pd"
   ]
  },
  {
   "cell_type": "markdown",
   "id": "c6e7e229",
   "metadata": {},
   "source": [
    "### Loading Datasets"
   ]
  },
  {
   "cell_type": "code",
   "execution_count": 187,
   "id": "0340e504",
   "metadata": {},
   "outputs": [
    {
     "name": "stdout",
     "output_type": "stream",
     "text": [
      "  school sex  age address famsize Pstatus  Medu  Fedu     Mjob      Fjob  \\\n",
      "0     GP   F   18       U     GT3       A     4     4  at_home   teacher   \n",
      "1     GP   F   17       U     GT3       T     1     1  at_home     other   \n",
      "2     GP   F   15       U     LE3       T     1     1  at_home     other   \n",
      "3     GP   F   15       U     GT3       T     4     2   health  services   \n",
      "4     GP   F   16       U     GT3       T     3     3    other     other   \n",
      "\n",
      "   reason guardian  traveltime  studytime  failures schoolsup famsup paid  \\\n",
      "0  course   mother           2          2         0       yes     no   no   \n",
      "1  course   father           1          2         0        no    yes   no   \n",
      "2   other   mother           1          2         3       yes     no  yes   \n",
      "3    home   mother           1          3         0        no    yes  yes   \n",
      "4    home   father           1          2         0        no    yes  yes   \n",
      "\n",
      "  activities nursery higher internet romantic  famrel  freetime  goout  Dalc  \\\n",
      "0         no     yes    yes       no       no       4         3      4     1   \n",
      "1         no      no    yes      yes       no       5         3      3     1   \n",
      "2         no     yes    yes      yes       no       4         3      2     2   \n",
      "3        yes     yes    yes      yes      yes       3         2      2     1   \n",
      "4         no     yes    yes       no       no       4         3      2     1   \n",
      "\n",
      "   Walc  health  absences  G1  G2  G3  \n",
      "0     1       3         6   5   6   6  \n",
      "1     1       3         4   5   5   6  \n",
      "2     3       3        10   7   8  10  \n",
      "3     1       5         2  15  14  15  \n",
      "4     2       5         4   6  10  10  \n"
     ]
    }
   ],
   "source": [
    "pd.set_option('display.max_columns', None)\n",
    "dataset = pd.read_csv('student-mat.csv', sep= ';')\n",
    "print(dataset.head())\n"
   ]
  },
  {
   "cell_type": "markdown",
   "id": "1993037c",
   "metadata": {},
   "source": [
    "### Encoding Categorical Data"
   ]
  },
  {
   "cell_type": "markdown",
   "id": "8d4aede3",
   "metadata": {},
   "source": [
    "#### Encoding Independent Variables"
   ]
  },
  {
   "cell_type": "markdown",
   "id": "e51d5673",
   "metadata": {},
   "source": [
    "##### Taking care of Yes No values"
   ]
  },
  {
   "cell_type": "code",
   "execution_count": 188,
   "id": "ab5e10ae",
   "metadata": {},
   "outputs": [
    {
     "name": "stdout",
     "output_type": "stream",
     "text": [
      "  school sex  age address famsize Pstatus  Medu  Fedu     Mjob      Fjob  \\\n",
      "0     GP   F   18       U     GT3       A     4     4  at_home   teacher   \n",
      "1     GP   F   17       U     GT3       T     1     1  at_home     other   \n",
      "2     GP   F   15       U     LE3       T     1     1  at_home     other   \n",
      "3     GP   F   15       U     GT3       T     4     2   health  services   \n",
      "4     GP   F   16       U     GT3       T     3     3    other     other   \n",
      "\n",
      "   reason guardian  traveltime  studytime  failures schoolsup famsup paid  \\\n",
      "0  course   mother           2          2         0         1      0    0   \n",
      "1  course   father           1          2         0         0      1    0   \n",
      "2   other   mother           1          2         3         1      0    1   \n",
      "3    home   mother           1          3         0         0      1    1   \n",
      "4    home   father           1          2         0         0      1    1   \n",
      "\n",
      "  activities nursery higher internet romantic  famrel  freetime  goout  Dalc  \\\n",
      "0          0       1      1        0        0       3         2      3     1   \n",
      "1          0       0      1        1        0       4         2      2     1   \n",
      "2          0       1      1        1        0       3         2      1     2   \n",
      "3          1       1      1        1        1       2         1      1     1   \n",
      "4          0       1      1        0        0       3         2      1     1   \n",
      "\n",
      "   Walc  health  absences  G1  G2  G3  \n",
      "0     1       3         6   5   6   6  \n",
      "1     1       3         4   5   5   6  \n",
      "2     3       3        10   7   8  10  \n",
      "3     1       5         2  15  14  15  \n",
      "4     2       5         4   6  10  10  \n"
     ]
    }
   ],
   "source": [
    "from sklearn.preprocessing import LabelEncoder\n",
    "yes_no_col = [15,16,17,18,19,20,21,22,23,24,25]\n",
    "le = LabelEncoder()\n",
    "for col in yes_no_col:\n",
    "    dataset.iloc[:,col] = le.fit_transform(dataset.iloc[:,col])\n",
    "\n",
    "print(dataset.head())"
   ]
  },
  {
   "cell_type": "markdown",
   "id": "099866c0",
   "metadata": {},
   "source": [
    "##### Defining Variables"
   ]
  },
  {
   "cell_type": "code",
   "execution_count": 189,
   "id": "e6a84a00",
   "metadata": {},
   "outputs": [],
   "source": [
    "X = dataset.iloc[:, :-1].values\n",
    "y = dataset.iloc[:, -1].values"
   ]
  },
  {
   "cell_type": "markdown",
   "id": "92e74e9f",
   "metadata": {},
   "source": [
    "##### Taking care of categorical values"
   ]
  },
  {
   "cell_type": "code",
   "execution_count": 190,
   "id": "eb288a15",
   "metadata": {},
   "outputs": [],
   "source": [
    "from sklearn.compose import ColumnTransformer\n",
    "from sklearn.preprocessing import OneHotEncoder\n",
    "ct = ColumnTransformer(transformers=[('encoder', OneHotEncoder(),  [0, 1, 3, 4, 5, 8, 9, 10, 11])], remainder='passthrough')\n",
    "X = np.array(ct.fit_transform(X))"
   ]
  },
  {
   "cell_type": "code",
   "execution_count": 191,
   "id": "67154d3d",
   "metadata": {},
   "outputs": [
    {
     "name": "stdout",
     "output_type": "stream",
     "text": [
      "[[1.0 0.0 1.0 ... 6 5 6]\n",
      " [1.0 0.0 1.0 ... 4 5 5]\n",
      " [1.0 0.0 1.0 ... 10 7 8]\n",
      " ...\n",
      " [0.0 1.0 0.0 ... 3 10 8]\n",
      " [0.0 1.0 0.0 ... 0 11 12]\n",
      " [0.0 1.0 0.0 ... 5 8 9]]\n"
     ]
    }
   ],
   "source": [
    "print(X)"
   ]
  },
  {
   "cell_type": "markdown",
   "id": "d3f6cf8e",
   "metadata": {},
   "source": [
    "### Splitting the dataset into Training set and Test set\n"
   ]
  },
  {
   "cell_type": "code",
   "execution_count": 192,
   "id": "001cd902",
   "metadata": {},
   "outputs": [],
   "source": [
    "from sklearn.model_selection import train_test_split\n",
    "X_train, X_test, y_train, y_test = train_test_split(X, y, test_size = 0.2, random_state =1)"
   ]
  },
  {
   "cell_type": "code",
   "execution_count": 193,
   "id": "c31c9acc",
   "metadata": {},
   "outputs": [
    {
     "name": "stdout",
     "output_type": "stream",
     "text": [
      "[[1.0 0.0 0.0 ... 0 13 13]\n",
      " [1.0 0.0 1.0 ... 0 10 9]\n",
      " [1.0 0.0 0.0 ... 2 10 10]\n",
      " ...\n",
      " [1.0 0.0 1.0 ... 2 8 6]\n",
      " [1.0 0.0 0.0 ... 10 11 9]\n",
      " [1.0 0.0 0.0 ... 7 15 16]]\n"
     ]
    }
   ],
   "source": [
    "print(X_train)"
   ]
  },
  {
   "cell_type": "code",
   "execution_count": 194,
   "id": "7362e036",
   "metadata": {},
   "outputs": [
    {
     "name": "stdout",
     "output_type": "stream",
     "text": [
      "[[1.0 0.0 0.0 1.0 0.0 1.0 0.0 1.0 0.0 1.0 0.0 0.0 1.0 0.0 0.0 0.0 0.0 1.0\n",
      "  0.0 0.0 0.0 0.0 0.0 1.0 0.0 1.0 0.0 16 2 2 2 2 0 0 1 0 1 1 1 1 0 4 3 3\n",
      "  2 4 5 0 13 13]\n",
      " [1.0 0.0 1.0 0.0 0.0 1.0 1.0 0.0 0.0 1.0 0.0 1.0 0.0 0.0 0.0 0.0 0.0 1.0\n",
      "  0.0 0.0 0.0 0.0 0.0 1.0 0.0 0.0 1.0 19 4 4 2 2 0 0 1 1 1 1 1 1 0 1 2 3\n",
      "  2 3 2 0 10 9]\n",
      " [1.0 0.0 0.0 1.0 0.0 1.0 1.0 0.0 0.0 1.0 0.0 0.0 0.0 0.0 1.0 0.0 0.0 1.0\n",
      "  0.0 0.0 1.0 0.0 0.0 0.0 0.0 1.0 0.0 15 4 3 2 2 0 0 1 1 0 1 1 1 0 4 3 2\n",
      "  1 2 3 2 10 10]\n",
      " [1.0 0.0 0.0 1.0 0.0 1.0 1.0 0.0 0.0 1.0 0.0 0.0 1.0 0.0 0.0 0.0 0.0 1.0\n",
      "  0.0 0.0 0.0 0.0 1.0 0.0 0.0 1.0 0.0 16 0 2 1 1 0 0 0 1 0 0 1 1 0 3 2 1\n",
      "  2 4 5 0 13 15]\n",
      " [1.0 0.0 1.0 0.0 0.0 1.0 1.0 0.0 0.0 1.0 0.0 0.0 0.0 1.0 0.0 0.0 0.0 0.0\n",
      "  1.0 0.0 1.0 0.0 0.0 0.0 1.0 0.0 0.0 16 1 1 4 1 0 1 1 0 1 0 1 1 1 4 4 4\n",
      "  5 5 5 6 10 8]]\n"
     ]
    }
   ],
   "source": [
    "print(X_train[:5])"
   ]
  },
  {
   "cell_type": "code",
   "execution_count": 195,
   "id": "2b4824b2",
   "metadata": {},
   "outputs": [
    {
     "name": "stdout",
     "output_type": "stream",
     "text": [
      "[12  0 11 15 11 13 10 10 13  0 11 14  0 19 10  0  8  9  6 12 18 15  7  9\n",
      " 14 11 18 13  6 13 14  9 12  8 11  8 13 10 12 11 15 16 15 14 18 16 18  8\n",
      "  9 14  7  9  0  9  8 10  0  8 13 16  0 13 12 10 13 13 15 13 14 11  6 11\n",
      " 11 13 15 11  0 12 15 10 11  8 18  0  7 13 10  8  0 10 17  9 11  0  5 15\n",
      " 19  9 18  0 12 12 10 14 15  9  9 10 14  0 13 15 14  5 15 10 19 12  8 14\n",
      " 16  0 11 17 10 13 16 14 14  9 11 12 12  6 11  9 10  0 11 12 12 10  0 10\n",
      " 10  0 13  6  7  0  5 20 19  6 10 11 11 15 17  7 16 11 10 14  0  8 11 15\n",
      " 12  9  0 16 14 14 16 11  5 11 10 11  8 15 11 15 15 12 10  9  8 14  0  0\n",
      " 13 11 14 18 17 15  6  6  0 12 11 14 10  0  0 10 10 15  9  0 15  8 12 15\n",
      " 18 18 13 15  8 10 16 11  9  9 10 13 10 10 12  8  0  8 14 13 14 13 11 12\n",
      "  0 14  0 13 14 10 14  0 10 15  8  8 10 11 15 17 13 18  0 12 15  8 16 10\n",
      " 14  8 16 13 12 11 10 11  8 15 10  7 10 12 15 16  9  4  0  7  0  6 11 16\n",
      "  9 11  6  9  6  8 12 15  8 13 13  8 11 12  9  9 10 12 10 18  0 15 11  6\n",
      "  8  5 10 15]\n"
     ]
    }
   ],
   "source": [
    "print(y_train)"
   ]
  },
  {
   "cell_type": "code",
   "execution_count": 196,
   "id": "02d12e88",
   "metadata": {},
   "outputs": [
    {
     "name": "stdout",
     "output_type": "stream",
     "text": [
      "[ 0 10  8 10 10 12  8 11 11  8 11 13  8  7 10 10 15 16  8 10 11 19 10 11\n",
      " 16  5 11  9 10 13 12 11 10 11 14  8 10 10  7 10  9  9 15  9 11 13 18  9\n",
      " 14 10  5 10 11  6  6 11  6 15 10  0  0  0 13 17 13  8 10 15  9 10 16 12\n",
      " 12 14 12 11 10 13 12]\n"
     ]
    }
   ],
   "source": [
    "print(y_test)"
   ]
  },
  {
   "cell_type": "code",
   "execution_count": 197,
   "id": "9a7de444",
   "metadata": {},
   "outputs": [
    {
     "name": "stdout",
     "output_type": "stream",
     "text": [
      "(316, 50)\n"
     ]
    }
   ],
   "source": [
    "print(X_train.shape)"
   ]
  },
  {
   "cell_type": "markdown",
   "id": "e859ba59",
   "metadata": {},
   "source": [
    "### Feature Scaling"
   ]
  },
  {
   "cell_type": "code",
   "execution_count": 198,
   "id": "5935c971",
   "metadata": {},
   "outputs": [],
   "source": [
    "from sklearn.preprocessing import StandardScaler\n",
    "sc = StandardScaler()\n",
    "X_train[:, 27:33] = sc.fit_transform(X_train[:,27:33])\n",
    "X_test[:, 27:33] = sc.transform(X_test[:,27:33])\n",
    "X_train[:, 40:] = sc.fit_transform(X_train[:,40:])\n",
    "X_test[:, 40:] = sc.transform(X_test[:,40:])"
   ]
  },
  {
   "cell_type": "code",
   "execution_count": 199,
   "id": "61c1794d",
   "metadata": {},
   "outputs": [
    {
     "name": "stdout",
     "output_type": "stream",
     "text": [
      "[[1.0 0.0 0.0 1.0 0.0 1.0 0.0 1.0 0.0 1.0 0.0 0.0 1.0 0.0 0.0 0.0 0.0 1.0\n",
      "  0.0 0.0 0.0 0.0 0.0 1.0 0.0 1.0 0.0 -0.5139366821250756\n",
      "  -0.709781259669727 -0.5073684183787618 0.8644153069527212\n",
      "  -0.04514980726717193 -0.4426643112615976 0 1 0 1 1 1 1\n",
      "  -0.7054291826636849 1.14718627649378 0.7853535113540139\n",
      "  0.7793955763892654 0.584673738420927 1.3221564348088795\n",
      "  1.0275701892534368 -0.6746582164971658 0.6136195264740169\n",
      "  0.5811869668706116]\n",
      " [1.0 0.0 1.0 0.0 0.0 1.0 1.0 0.0 0.0 1.0 0.0 1.0 0.0 0.0 0.0 0.0 0.0 1.0\n",
      "  0.0 0.0 0.0 0.0 0.0 1.0 0.0 0.0 1.0 1.8980037864619168\n",
      "  1.1211646836415685 1.335486986307316 0.8644153069527212\n",
      "  -0.04514980726717193 -0.4426643112615976 0 1 1 1 1 1 1\n",
      "  -0.7054291826636849 -2.099179664151305 -0.22347457640154847\n",
      "  0.7793955763892654 0.584673738420927 0.5368153945840564\n",
      "  -1.1181050076898627 -0.6746582164971658 -0.2799462355803115\n",
      "  -0.4306867605735383]\n",
      " [1.0 0.0 0.0 1.0 0.0 1.0 1.0 0.0 0.0 1.0 0.0 0.0 0.0 0.0 1.0 0.0 0.0 1.0\n",
      "  0.0 0.0 1.0 0.0 0.0 0.0 0.0 1.0 0.0 -1.3179168383207398\n",
      "  1.1211646836415685 0.4140592839642771 0.8644153069527212\n",
      "  -0.04514980726717193 -0.4426643112615976 0 1 1 0 1 1 1\n",
      "  -0.7054291826636849 1.14718627649378 0.7853535113540139\n",
      "  -0.12941992965873397 -0.5558009612149551 -0.24852564564076673\n",
      "  -0.40287994204209626 -0.43170437443095 -0.2799462355803115\n",
      "  -0.17771832871250082]\n",
      " [1.0 0.0 0.0 1.0 0.0 1.0 1.0 0.0 0.0 1.0 0.0 0.0 1.0 0.0 0.0 0.0 0.0 1.0\n",
      "  0.0 0.0 0.0 0.0 1.0 0.0 0.0 1.0 0.0 -0.5139366821250756\n",
      "  -2.5407272029810226 -0.5073684183787618 -0.6041612360422245\n",
      "  -1.2340947319693598 -0.4426643112615976 0 0 1 0 0 1 1\n",
      "  -0.7054291826636849 0.06506429627875157 -0.22347457640154847\n",
      "  -1.0382354357067332 0.584673738420927 1.3221564348088795\n",
      "  1.0275701892534368 -0.6746582164971658 0.6136195264740169\n",
      "  1.0871238305926865]\n",
      " [1.0 0.0 1.0 0.0 0.0 1.0 1.0 0.0 0.0 1.0 0.0 0.0 0.0 1.0 0.0 0.0 0.0 0.0\n",
      "  1.0 0.0 1.0 0.0 0.0 0.0 1.0 0.0 0.0 -0.5139366821250756\n",
      "  -1.6252542313253748 -1.4287961207218007 3.8015683929426127\n",
      "  -1.2340947319693598 -0.4426643112615976 1 1 0 1 0 1 1\n",
      "  1.4175767384955953 1.14718627649378 1.7941815991095762\n",
      "  1.6882110824372647 4.006097837328573 2.1074974750337025\n",
      "  1.0275701892534368 0.05420330970148172 -0.2799462355803115\n",
      "  -0.6836551924345757]]\n"
     ]
    }
   ],
   "source": [
    "print(X_train[:5])"
   ]
  },
  {
   "cell_type": "code",
   "execution_count": 200,
   "id": "c43c1ce2",
   "metadata": {},
   "outputs": [
    {
     "name": "stdout",
     "output_type": "stream",
     "text": [
      "[[1.0 0.0 1.0 ... -0.6746582164971658 -1.4713672516527494\n",
      "  -0.9366236242956132]\n",
      " [0.0 1.0 1.0 ... 1.390449441065669 -0.2799462355803115\n",
      "  -0.17771832871250082]\n",
      " [1.0 0.0 0.0 ... 1.268972520032561 -1.4713672516527494\n",
      "  -0.6836551924345757]\n",
      " ...\n",
      " [0.0 1.0 1.0 ... -0.6746582164971658 0.01790901843779795\n",
      "  0.07525010314853664]\n",
      " [1.0 0.0 0.0 ... -0.43170437443095 0.9114747804921263 0.5811869668706116]\n",
      " [1.0 0.0 1.0 ... 0.05420330970148172 0.3157642724559074\n",
      "  0.3282185350095741]]\n"
     ]
    }
   ],
   "source": [
    "print(X_test)"
   ]
  },
  {
   "cell_type": "markdown",
   "id": "f1900c81",
   "metadata": {},
   "source": [
    "## Regression Models"
   ]
  },
  {
   "cell_type": "markdown",
   "id": "181d0643",
   "metadata": {},
   "source": [
    "### Simple Linear Regression\n"
   ]
  },
  {
   "cell_type": "code",
   "execution_count": 201,
   "id": "bed9c667",
   "metadata": {},
   "outputs": [
    {
     "data": {
      "text/html": [
       "<style>#sk-container-id-1 {\n",
       "  /* Definition of color scheme common for light and dark mode */\n",
       "  --sklearn-color-text: #000;\n",
       "  --sklearn-color-text-muted: #666;\n",
       "  --sklearn-color-line: gray;\n",
       "  /* Definition of color scheme for unfitted estimators */\n",
       "  --sklearn-color-unfitted-level-0: #fff5e6;\n",
       "  --sklearn-color-unfitted-level-1: #f6e4d2;\n",
       "  --sklearn-color-unfitted-level-2: #ffe0b3;\n",
       "  --sklearn-color-unfitted-level-3: chocolate;\n",
       "  /* Definition of color scheme for fitted estimators */\n",
       "  --sklearn-color-fitted-level-0: #f0f8ff;\n",
       "  --sklearn-color-fitted-level-1: #d4ebff;\n",
       "  --sklearn-color-fitted-level-2: #b3dbfd;\n",
       "  --sklearn-color-fitted-level-3: cornflowerblue;\n",
       "\n",
       "  /* Specific color for light theme */\n",
       "  --sklearn-color-text-on-default-background: var(--sg-text-color, var(--theme-code-foreground, var(--jp-content-font-color1, black)));\n",
       "  --sklearn-color-background: var(--sg-background-color, var(--theme-background, var(--jp-layout-color0, white)));\n",
       "  --sklearn-color-border-box: var(--sg-text-color, var(--theme-code-foreground, var(--jp-content-font-color1, black)));\n",
       "  --sklearn-color-icon: #696969;\n",
       "\n",
       "  @media (prefers-color-scheme: dark) {\n",
       "    /* Redefinition of color scheme for dark theme */\n",
       "    --sklearn-color-text-on-default-background: var(--sg-text-color, var(--theme-code-foreground, var(--jp-content-font-color1, white)));\n",
       "    --sklearn-color-background: var(--sg-background-color, var(--theme-background, var(--jp-layout-color0, #111)));\n",
       "    --sklearn-color-border-box: var(--sg-text-color, var(--theme-code-foreground, var(--jp-content-font-color1, white)));\n",
       "    --sklearn-color-icon: #878787;\n",
       "  }\n",
       "}\n",
       "\n",
       "#sk-container-id-1 {\n",
       "  color: var(--sklearn-color-text);\n",
       "}\n",
       "\n",
       "#sk-container-id-1 pre {\n",
       "  padding: 0;\n",
       "}\n",
       "\n",
       "#sk-container-id-1 input.sk-hidden--visually {\n",
       "  border: 0;\n",
       "  clip: rect(1px 1px 1px 1px);\n",
       "  clip: rect(1px, 1px, 1px, 1px);\n",
       "  height: 1px;\n",
       "  margin: -1px;\n",
       "  overflow: hidden;\n",
       "  padding: 0;\n",
       "  position: absolute;\n",
       "  width: 1px;\n",
       "}\n",
       "\n",
       "#sk-container-id-1 div.sk-dashed-wrapped {\n",
       "  border: 1px dashed var(--sklearn-color-line);\n",
       "  margin: 0 0.4em 0.5em 0.4em;\n",
       "  box-sizing: border-box;\n",
       "  padding-bottom: 0.4em;\n",
       "  background-color: var(--sklearn-color-background);\n",
       "}\n",
       "\n",
       "#sk-container-id-1 div.sk-container {\n",
       "  /* jupyter's `normalize.less` sets `[hidden] { display: none; }`\n",
       "     but bootstrap.min.css set `[hidden] { display: none !important; }`\n",
       "     so we also need the `!important` here to be able to override the\n",
       "     default hidden behavior on the sphinx rendered scikit-learn.org.\n",
       "     See: https://github.com/scikit-learn/scikit-learn/issues/21755 */\n",
       "  display: inline-block !important;\n",
       "  position: relative;\n",
       "}\n",
       "\n",
       "#sk-container-id-1 div.sk-text-repr-fallback {\n",
       "  display: none;\n",
       "}\n",
       "\n",
       "div.sk-parallel-item,\n",
       "div.sk-serial,\n",
       "div.sk-item {\n",
       "  /* draw centered vertical line to link estimators */\n",
       "  background-image: linear-gradient(var(--sklearn-color-text-on-default-background), var(--sklearn-color-text-on-default-background));\n",
       "  background-size: 2px 100%;\n",
       "  background-repeat: no-repeat;\n",
       "  background-position: center center;\n",
       "}\n",
       "\n",
       "/* Parallel-specific style estimator block */\n",
       "\n",
       "#sk-container-id-1 div.sk-parallel-item::after {\n",
       "  content: \"\";\n",
       "  width: 100%;\n",
       "  border-bottom: 2px solid var(--sklearn-color-text-on-default-background);\n",
       "  flex-grow: 1;\n",
       "}\n",
       "\n",
       "#sk-container-id-1 div.sk-parallel {\n",
       "  display: flex;\n",
       "  align-items: stretch;\n",
       "  justify-content: center;\n",
       "  background-color: var(--sklearn-color-background);\n",
       "  position: relative;\n",
       "}\n",
       "\n",
       "#sk-container-id-1 div.sk-parallel-item {\n",
       "  display: flex;\n",
       "  flex-direction: column;\n",
       "}\n",
       "\n",
       "#sk-container-id-1 div.sk-parallel-item:first-child::after {\n",
       "  align-self: flex-end;\n",
       "  width: 50%;\n",
       "}\n",
       "\n",
       "#sk-container-id-1 div.sk-parallel-item:last-child::after {\n",
       "  align-self: flex-start;\n",
       "  width: 50%;\n",
       "}\n",
       "\n",
       "#sk-container-id-1 div.sk-parallel-item:only-child::after {\n",
       "  width: 0;\n",
       "}\n",
       "\n",
       "/* Serial-specific style estimator block */\n",
       "\n",
       "#sk-container-id-1 div.sk-serial {\n",
       "  display: flex;\n",
       "  flex-direction: column;\n",
       "  align-items: center;\n",
       "  background-color: var(--sklearn-color-background);\n",
       "  padding-right: 1em;\n",
       "  padding-left: 1em;\n",
       "}\n",
       "\n",
       "\n",
       "/* Toggleable style: style used for estimator/Pipeline/ColumnTransformer box that is\n",
       "clickable and can be expanded/collapsed.\n",
       "- Pipeline and ColumnTransformer use this feature and define the default style\n",
       "- Estimators will overwrite some part of the style using the `sk-estimator` class\n",
       "*/\n",
       "\n",
       "/* Pipeline and ColumnTransformer style (default) */\n",
       "\n",
       "#sk-container-id-1 div.sk-toggleable {\n",
       "  /* Default theme specific background. It is overwritten whether we have a\n",
       "  specific estimator or a Pipeline/ColumnTransformer */\n",
       "  background-color: var(--sklearn-color-background);\n",
       "}\n",
       "\n",
       "/* Toggleable label */\n",
       "#sk-container-id-1 label.sk-toggleable__label {\n",
       "  cursor: pointer;\n",
       "  display: flex;\n",
       "  width: 100%;\n",
       "  margin-bottom: 0;\n",
       "  padding: 0.5em;\n",
       "  box-sizing: border-box;\n",
       "  text-align: center;\n",
       "  align-items: start;\n",
       "  justify-content: space-between;\n",
       "  gap: 0.5em;\n",
       "}\n",
       "\n",
       "#sk-container-id-1 label.sk-toggleable__label .caption {\n",
       "  font-size: 0.6rem;\n",
       "  font-weight: lighter;\n",
       "  color: var(--sklearn-color-text-muted);\n",
       "}\n",
       "\n",
       "#sk-container-id-1 label.sk-toggleable__label-arrow:before {\n",
       "  /* Arrow on the left of the label */\n",
       "  content: \"▸\";\n",
       "  float: left;\n",
       "  margin-right: 0.25em;\n",
       "  color: var(--sklearn-color-icon);\n",
       "}\n",
       "\n",
       "#sk-container-id-1 label.sk-toggleable__label-arrow:hover:before {\n",
       "  color: var(--sklearn-color-text);\n",
       "}\n",
       "\n",
       "/* Toggleable content - dropdown */\n",
       "\n",
       "#sk-container-id-1 div.sk-toggleable__content {\n",
       "  max-height: 0;\n",
       "  max-width: 0;\n",
       "  overflow: hidden;\n",
       "  text-align: left;\n",
       "  /* unfitted */\n",
       "  background-color: var(--sklearn-color-unfitted-level-0);\n",
       "}\n",
       "\n",
       "#sk-container-id-1 div.sk-toggleable__content.fitted {\n",
       "  /* fitted */\n",
       "  background-color: var(--sklearn-color-fitted-level-0);\n",
       "}\n",
       "\n",
       "#sk-container-id-1 div.sk-toggleable__content pre {\n",
       "  margin: 0.2em;\n",
       "  border-radius: 0.25em;\n",
       "  color: var(--sklearn-color-text);\n",
       "  /* unfitted */\n",
       "  background-color: var(--sklearn-color-unfitted-level-0);\n",
       "}\n",
       "\n",
       "#sk-container-id-1 div.sk-toggleable__content.fitted pre {\n",
       "  /* unfitted */\n",
       "  background-color: var(--sklearn-color-fitted-level-0);\n",
       "}\n",
       "\n",
       "#sk-container-id-1 input.sk-toggleable__control:checked~div.sk-toggleable__content {\n",
       "  /* Expand drop-down */\n",
       "  max-height: 200px;\n",
       "  max-width: 100%;\n",
       "  overflow: auto;\n",
       "}\n",
       "\n",
       "#sk-container-id-1 input.sk-toggleable__control:checked~label.sk-toggleable__label-arrow:before {\n",
       "  content: \"▾\";\n",
       "}\n",
       "\n",
       "/* Pipeline/ColumnTransformer-specific style */\n",
       "\n",
       "#sk-container-id-1 div.sk-label input.sk-toggleable__control:checked~label.sk-toggleable__label {\n",
       "  color: var(--sklearn-color-text);\n",
       "  background-color: var(--sklearn-color-unfitted-level-2);\n",
       "}\n",
       "\n",
       "#sk-container-id-1 div.sk-label.fitted input.sk-toggleable__control:checked~label.sk-toggleable__label {\n",
       "  background-color: var(--sklearn-color-fitted-level-2);\n",
       "}\n",
       "\n",
       "/* Estimator-specific style */\n",
       "\n",
       "/* Colorize estimator box */\n",
       "#sk-container-id-1 div.sk-estimator input.sk-toggleable__control:checked~label.sk-toggleable__label {\n",
       "  /* unfitted */\n",
       "  background-color: var(--sklearn-color-unfitted-level-2);\n",
       "}\n",
       "\n",
       "#sk-container-id-1 div.sk-estimator.fitted input.sk-toggleable__control:checked~label.sk-toggleable__label {\n",
       "  /* fitted */\n",
       "  background-color: var(--sklearn-color-fitted-level-2);\n",
       "}\n",
       "\n",
       "#sk-container-id-1 div.sk-label label.sk-toggleable__label,\n",
       "#sk-container-id-1 div.sk-label label {\n",
       "  /* The background is the default theme color */\n",
       "  color: var(--sklearn-color-text-on-default-background);\n",
       "}\n",
       "\n",
       "/* On hover, darken the color of the background */\n",
       "#sk-container-id-1 div.sk-label:hover label.sk-toggleable__label {\n",
       "  color: var(--sklearn-color-text);\n",
       "  background-color: var(--sklearn-color-unfitted-level-2);\n",
       "}\n",
       "\n",
       "/* Label box, darken color on hover, fitted */\n",
       "#sk-container-id-1 div.sk-label.fitted:hover label.sk-toggleable__label.fitted {\n",
       "  color: var(--sklearn-color-text);\n",
       "  background-color: var(--sklearn-color-fitted-level-2);\n",
       "}\n",
       "\n",
       "/* Estimator label */\n",
       "\n",
       "#sk-container-id-1 div.sk-label label {\n",
       "  font-family: monospace;\n",
       "  font-weight: bold;\n",
       "  display: inline-block;\n",
       "  line-height: 1.2em;\n",
       "}\n",
       "\n",
       "#sk-container-id-1 div.sk-label-container {\n",
       "  text-align: center;\n",
       "}\n",
       "\n",
       "/* Estimator-specific */\n",
       "#sk-container-id-1 div.sk-estimator {\n",
       "  font-family: monospace;\n",
       "  border: 1px dotted var(--sklearn-color-border-box);\n",
       "  border-radius: 0.25em;\n",
       "  box-sizing: border-box;\n",
       "  margin-bottom: 0.5em;\n",
       "  /* unfitted */\n",
       "  background-color: var(--sklearn-color-unfitted-level-0);\n",
       "}\n",
       "\n",
       "#sk-container-id-1 div.sk-estimator.fitted {\n",
       "  /* fitted */\n",
       "  background-color: var(--sklearn-color-fitted-level-0);\n",
       "}\n",
       "\n",
       "/* on hover */\n",
       "#sk-container-id-1 div.sk-estimator:hover {\n",
       "  /* unfitted */\n",
       "  background-color: var(--sklearn-color-unfitted-level-2);\n",
       "}\n",
       "\n",
       "#sk-container-id-1 div.sk-estimator.fitted:hover {\n",
       "  /* fitted */\n",
       "  background-color: var(--sklearn-color-fitted-level-2);\n",
       "}\n",
       "\n",
       "/* Specification for estimator info (e.g. \"i\" and \"?\") */\n",
       "\n",
       "/* Common style for \"i\" and \"?\" */\n",
       "\n",
       ".sk-estimator-doc-link,\n",
       "a:link.sk-estimator-doc-link,\n",
       "a:visited.sk-estimator-doc-link {\n",
       "  float: right;\n",
       "  font-size: smaller;\n",
       "  line-height: 1em;\n",
       "  font-family: monospace;\n",
       "  background-color: var(--sklearn-color-background);\n",
       "  border-radius: 1em;\n",
       "  height: 1em;\n",
       "  width: 1em;\n",
       "  text-decoration: none !important;\n",
       "  margin-left: 0.5em;\n",
       "  text-align: center;\n",
       "  /* unfitted */\n",
       "  border: var(--sklearn-color-unfitted-level-1) 1pt solid;\n",
       "  color: var(--sklearn-color-unfitted-level-1);\n",
       "}\n",
       "\n",
       ".sk-estimator-doc-link.fitted,\n",
       "a:link.sk-estimator-doc-link.fitted,\n",
       "a:visited.sk-estimator-doc-link.fitted {\n",
       "  /* fitted */\n",
       "  border: var(--sklearn-color-fitted-level-1) 1pt solid;\n",
       "  color: var(--sklearn-color-fitted-level-1);\n",
       "}\n",
       "\n",
       "/* On hover */\n",
       "div.sk-estimator:hover .sk-estimator-doc-link:hover,\n",
       ".sk-estimator-doc-link:hover,\n",
       "div.sk-label-container:hover .sk-estimator-doc-link:hover,\n",
       ".sk-estimator-doc-link:hover {\n",
       "  /* unfitted */\n",
       "  background-color: var(--sklearn-color-unfitted-level-3);\n",
       "  color: var(--sklearn-color-background);\n",
       "  text-decoration: none;\n",
       "}\n",
       "\n",
       "div.sk-estimator.fitted:hover .sk-estimator-doc-link.fitted:hover,\n",
       ".sk-estimator-doc-link.fitted:hover,\n",
       "div.sk-label-container:hover .sk-estimator-doc-link.fitted:hover,\n",
       ".sk-estimator-doc-link.fitted:hover {\n",
       "  /* fitted */\n",
       "  background-color: var(--sklearn-color-fitted-level-3);\n",
       "  color: var(--sklearn-color-background);\n",
       "  text-decoration: none;\n",
       "}\n",
       "\n",
       "/* Span, style for the box shown on hovering the info icon */\n",
       ".sk-estimator-doc-link span {\n",
       "  display: none;\n",
       "  z-index: 9999;\n",
       "  position: relative;\n",
       "  font-weight: normal;\n",
       "  right: .2ex;\n",
       "  padding: .5ex;\n",
       "  margin: .5ex;\n",
       "  width: min-content;\n",
       "  min-width: 20ex;\n",
       "  max-width: 50ex;\n",
       "  color: var(--sklearn-color-text);\n",
       "  box-shadow: 2pt 2pt 4pt #999;\n",
       "  /* unfitted */\n",
       "  background: var(--sklearn-color-unfitted-level-0);\n",
       "  border: .5pt solid var(--sklearn-color-unfitted-level-3);\n",
       "}\n",
       "\n",
       ".sk-estimator-doc-link.fitted span {\n",
       "  /* fitted */\n",
       "  background: var(--sklearn-color-fitted-level-0);\n",
       "  border: var(--sklearn-color-fitted-level-3);\n",
       "}\n",
       "\n",
       ".sk-estimator-doc-link:hover span {\n",
       "  display: block;\n",
       "}\n",
       "\n",
       "/* \"?\"-specific style due to the `<a>` HTML tag */\n",
       "\n",
       "#sk-container-id-1 a.estimator_doc_link {\n",
       "  float: right;\n",
       "  font-size: 1rem;\n",
       "  line-height: 1em;\n",
       "  font-family: monospace;\n",
       "  background-color: var(--sklearn-color-background);\n",
       "  border-radius: 1rem;\n",
       "  height: 1rem;\n",
       "  width: 1rem;\n",
       "  text-decoration: none;\n",
       "  /* unfitted */\n",
       "  color: var(--sklearn-color-unfitted-level-1);\n",
       "  border: var(--sklearn-color-unfitted-level-1) 1pt solid;\n",
       "}\n",
       "\n",
       "#sk-container-id-1 a.estimator_doc_link.fitted {\n",
       "  /* fitted */\n",
       "  border: var(--sklearn-color-fitted-level-1) 1pt solid;\n",
       "  color: var(--sklearn-color-fitted-level-1);\n",
       "}\n",
       "\n",
       "/* On hover */\n",
       "#sk-container-id-1 a.estimator_doc_link:hover {\n",
       "  /* unfitted */\n",
       "  background-color: var(--sklearn-color-unfitted-level-3);\n",
       "  color: var(--sklearn-color-background);\n",
       "  text-decoration: none;\n",
       "}\n",
       "\n",
       "#sk-container-id-1 a.estimator_doc_link.fitted:hover {\n",
       "  /* fitted */\n",
       "  background-color: var(--sklearn-color-fitted-level-3);\n",
       "}\n",
       "</style><div id=\"sk-container-id-1\" class=\"sk-top-container\"><div class=\"sk-text-repr-fallback\"><pre>LinearRegression()</pre><b>In a Jupyter environment, please rerun this cell to show the HTML representation or trust the notebook. <br />On GitHub, the HTML representation is unable to render, please try loading this page with nbviewer.org.</b></div><div class=\"sk-container\" hidden><div class=\"sk-item\"><div class=\"sk-estimator fitted sk-toggleable\"><input class=\"sk-toggleable__control sk-hidden--visually\" id=\"sk-estimator-id-1\" type=\"checkbox\" checked><label for=\"sk-estimator-id-1\" class=\"sk-toggleable__label fitted sk-toggleable__label-arrow\"><div><div>LinearRegression</div></div><div><a class=\"sk-estimator-doc-link fitted\" rel=\"noreferrer\" target=\"_blank\" href=\"https://scikit-learn.org/1.6/modules/generated/sklearn.linear_model.LinearRegression.html\">?<span>Documentation for LinearRegression</span></a><span class=\"sk-estimator-doc-link fitted\">i<span>Fitted</span></span></div></label><div class=\"sk-toggleable__content fitted\"><pre>LinearRegression()</pre></div> </div></div></div></div>"
      ],
      "text/plain": [
       "LinearRegression()"
      ]
     },
     "execution_count": 201,
     "metadata": {},
     "output_type": "execute_result"
    }
   ],
   "source": [
    "from sklearn.linear_model import LinearRegression\n",
    "regressor = LinearRegression()\n",
    "regressor.fit(X_train, y_train)"
   ]
  },
  {
   "cell_type": "code",
   "execution_count": 202,
   "id": "86707585",
   "metadata": {},
   "outputs": [],
   "source": [
    "y_pred = regressor.predict(X_test)"
   ]
  },
  {
   "cell_type": "code",
   "execution_count": 203,
   "id": "98e64f55",
   "metadata": {},
   "outputs": [
    {
     "name": "stdout",
     "output_type": "stream",
     "text": [
      "[ 4.84444395 11.36375304  5.39608109  8.05306226 10.00612326 10.46828042\n",
      "  6.59728475 12.38209291 10.75833868  7.40025158 12.53203944 13.4486291\n",
      "  5.9980494   8.83232203  7.81312912 11.32750003 16.54810773 16.77204959\n",
      "  5.93321189  9.35167985 10.47149898 18.46493998  9.80280202 11.79411699\n",
      " 15.40113713  5.30871888 12.02050837  7.54892513  8.94131787 12.31771003\n",
      " 11.12851226 11.99598737  5.28853303 10.60992231 12.34760795  8.73761148\n",
      " 10.56062355  7.77982208  7.51974567 10.28815726  8.99325442 11.18944198\n",
      " 16.34690998  4.78877901 10.14122062 11.86567215 19.35912888  8.47942198\n",
      " 12.69911988  7.90955907  5.18703107 12.74266893  9.51140852  4.89805775\n",
      "  7.11048478 10.7389807   6.73315459 15.42475033  9.58987386  3.68302227\n",
      "  5.4631397   8.12047133 10.37789912 15.44479114 13.70019145  9.11224532\n",
      " 10.30429062 14.60928478  8.14174698  9.16800238 14.50395995 10.77109434\n",
      " 11.76899884 13.57210387 13.04344579 10.52241058 10.74295844 12.71978226\n",
      " 12.24419665]\n"
     ]
    }
   ],
   "source": [
    "print(y_pred)"
   ]
  }
 ],
 "metadata": {
  "kernelspec": {
   "display_name": "TF",
   "language": "python",
   "name": "python3"
  },
  "language_info": {
   "codemirror_mode": {
    "name": "ipython",
    "version": 3
   },
   "file_extension": ".py",
   "mimetype": "text/x-python",
   "name": "python",
   "nbconvert_exporter": "python",
   "pygments_lexer": "ipython3",
   "version": "3.9.18"
  }
 },
 "nbformat": 4,
 "nbformat_minor": 5
}
