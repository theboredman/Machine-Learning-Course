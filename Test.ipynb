{
  "nbformat": 4,
  "nbformat_minor": 0,
  "metadata": {
    "colab": {
      "provenance": [],
      "include_colab_link": true
    },
    "kernelspec": {
      "name": "python3",
      "display_name": "Python 3"
    }
  },
  "cells": [
    {
      "cell_type": "markdown",
      "metadata": {
        "id": "view-in-github",
        "colab_type": "text"
      },
      "source": [
        "<a href=\"https://colab.research.google.com/github/theboredman/Machine-Learning-Course/blob/main/Test.ipynb\" target=\"_parent\"><img src=\"https://colab.research.google.com/assets/colab-badge.svg\" alt=\"Open In Colab\"/></a>"
      ]
    },
    {
      "cell_type": "markdown",
      "metadata": {
        "id": "WOw8yMd1VlnD"
      },
      "source": [
        "# Data Preprocessing Template"
      ]
    },
    {
      "cell_type": "markdown",
      "metadata": {
        "id": "NvUGC8QQV6bV"
      },
      "source": [
        "## Importing the libraries"
      ]
    },
    {
      "cell_type": "code",
      "metadata": {
        "id": "wfFEXZC0WS-V"
      },
      "source": [
        "import numpy as np\n",
        "import matplotlib.pyplot as plt\n",
        "import pandas as pd"
      ],
      "execution_count": 14,
      "outputs": []
    },
    {
      "cell_type": "markdown",
      "metadata": {
        "id": "fhYaZ-ENV_c5"
      },
      "source": [
        "## Importing the dataset"
      ]
    },
    {
      "cell_type": "code",
      "metadata": {
        "id": "aqHTg9bxWT_u"
      },
      "source": [
        "dataset = pd.read_csv('Data.csv')\n",
        "x = dataset.iloc[:, :-1].values\n",
        "y = dataset.iloc[:, -1].values"
      ],
      "execution_count": 15,
      "outputs": []
    },
    {
      "cell_type": "code",
      "source": [
        "print(x)"
      ],
      "metadata": {
        "colab": {
          "base_uri": "https://localhost:8080/"
        },
        "id": "rjHE7eT3xDzu",
        "outputId": "42cc4f19-1ce8-43ff-f168-f080960d2908"
      },
      "execution_count": 16,
      "outputs": [
        {
          "output_type": "stream",
          "name": "stdout",
          "text": [
            "[['Italy' 'Male' 'Bachelor' 41.0 68000.0 720.0]\n",
            " ['Portugal' 'Female' 'Master' 33.0 49000.0 680.0]\n",
            " ['Netherlands' 'Male' 'PhD' 29.0 52000.0 700.0]\n",
            " ['Portugal' 'Female' 'Bachelor' 45.0 nan nan]\n",
            " ['Italy' 'Female' 'High School' 38.0 57000.0 750.0]\n",
            " ['Netherlands' 'Male' 'Bachelor' nan 61000.0 690.0]\n",
            " ['Portugal' 'Female' 'Master' 36.0 55000.0 730.0]\n",
            " ['Italy' 'Male' 'PhD' 44.0 72000.0 710.0]\n",
            " ['Netherlands' 'Female' 'Bachelor' 47.0 81000.0 nan]\n",
            " ['Portugal' 'Male' 'Master' 39.0 nan 700.0]]\n"
          ]
        }
      ]
    },
    {
      "cell_type": "code",
      "source": [
        "print(y)"
      ],
      "metadata": {
        "colab": {
          "base_uri": "https://localhost:8080/"
        },
        "id": "XYpLRyl5xChJ",
        "outputId": "bcc467d5-b14a-45ec-815a-99099393c875"
      },
      "execution_count": 17,
      "outputs": [
        {
          "output_type": "stream",
          "name": "stdout",
          "text": [
            "['Yes' 'No' 'Yes' 'No' 'Yes' 'No' 'Yes' 'No' 'Yes' 'Yes']\n"
          ]
        }
      ]
    },
    {
      "cell_type": "markdown",
      "source": [
        "## Missing Data"
      ],
      "metadata": {
        "id": "iK8jYU0bxSjm"
      }
    },
    {
      "cell_type": "code",
      "source": [
        "from sklearn.impute import SimpleImputer\n",
        "imputer = SimpleImputer(missing_values=np.nan, strategy='mean')\n",
        "imputer.fit(x[:,3:6])\n",
        "x[:,3:6] = imputer.transform(x[:,3:6])"
      ],
      "metadata": {
        "id": "1Q5OKA0pxdAk"
      },
      "execution_count": 18,
      "outputs": []
    },
    {
      "cell_type": "code",
      "source": [
        "print(x)"
      ],
      "metadata": {
        "colab": {
          "base_uri": "https://localhost:8080/"
        },
        "id": "qnGFv1_Myb6d",
        "outputId": "a8bc3337-87a8-4880-9850-344ce182aacd"
      },
      "execution_count": 19,
      "outputs": [
        {
          "output_type": "stream",
          "name": "stdout",
          "text": [
            "[['Italy' 'Male' 'Bachelor' 41.0 68000.0 720.0]\n",
            " ['Portugal' 'Female' 'Master' 33.0 49000.0 680.0]\n",
            " ['Netherlands' 'Male' 'PhD' 29.0 52000.0 700.0]\n",
            " ['Portugal' 'Female' 'Bachelor' 45.0 61875.0 710.0]\n",
            " ['Italy' 'Female' 'High School' 38.0 57000.0 750.0]\n",
            " ['Netherlands' 'Male' 'Bachelor' 39.111111111111114 61000.0 690.0]\n",
            " ['Portugal' 'Female' 'Master' 36.0 55000.0 730.0]\n",
            " ['Italy' 'Male' 'PhD' 44.0 72000.0 710.0]\n",
            " ['Netherlands' 'Female' 'Bachelor' 47.0 81000.0 710.0]\n",
            " ['Portugal' 'Male' 'Master' 39.0 61875.0 700.0]]\n"
          ]
        }
      ]
    },
    {
      "cell_type": "markdown",
      "source": [
        "## Encoding Categorical data"
      ],
      "metadata": {
        "id": "fTuHBsdGzl-m"
      }
    },
    {
      "cell_type": "markdown",
      "source": [
        "## OnHotEncoding"
      ],
      "metadata": {
        "id": "QQ1xloxgz6aG"
      }
    },
    {
      "cell_type": "code",
      "source": [
        "from sklearn.compose import ColumnTransformer\n",
        "from sklearn.preprocessing import OneHotEncoder\n",
        "ct = ColumnTransformer(transformers=[('encoder', OneHotEncoder(), [0,1,2])], remainder='passthrough')\n",
        "x = np.array(ct.fit_transform(x))\n"
      ],
      "metadata": {
        "id": "m4fFkbaQz0yO"
      },
      "execution_count": 20,
      "outputs": []
    },
    {
      "cell_type": "code",
      "source": [
        "print(x)"
      ],
      "metadata": {
        "colab": {
          "base_uri": "https://localhost:8080/"
        },
        "id": "JGM6rGdu0vdu",
        "outputId": "8d29c0b1-74e1-4e04-ae95-0de5c947c658"
      },
      "execution_count": 21,
      "outputs": [
        {
          "output_type": "stream",
          "name": "stdout",
          "text": [
            "[[1.0 0.0 0.0 0.0 1.0 1.0 0.0 0.0 0.0 41.0 68000.0 720.0]\n",
            " [0.0 0.0 1.0 1.0 0.0 0.0 0.0 1.0 0.0 33.0 49000.0 680.0]\n",
            " [0.0 1.0 0.0 0.0 1.0 0.0 0.0 0.0 1.0 29.0 52000.0 700.0]\n",
            " [0.0 0.0 1.0 1.0 0.0 1.0 0.0 0.0 0.0 45.0 61875.0 710.0]\n",
            " [1.0 0.0 0.0 1.0 0.0 0.0 1.0 0.0 0.0 38.0 57000.0 750.0]\n",
            " [0.0 1.0 0.0 0.0 1.0 1.0 0.0 0.0 0.0 39.111111111111114 61000.0 690.0]\n",
            " [0.0 0.0 1.0 1.0 0.0 0.0 0.0 1.0 0.0 36.0 55000.0 730.0]\n",
            " [1.0 0.0 0.0 0.0 1.0 0.0 0.0 0.0 1.0 44.0 72000.0 710.0]\n",
            " [0.0 1.0 0.0 1.0 0.0 1.0 0.0 0.0 0.0 47.0 81000.0 710.0]\n",
            " [0.0 0.0 1.0 0.0 1.0 0.0 0.0 1.0 0.0 39.0 61875.0 700.0]]\n"
          ]
        }
      ]
    },
    {
      "cell_type": "markdown",
      "source": [
        "## Label Encoder"
      ],
      "metadata": {
        "id": "V3sKG7l-z-RZ"
      }
    },
    {
      "cell_type": "code",
      "source": [
        "from sklearn.preprocessing import LabelEncoder\n",
        "le = LabelEncoder()\n",
        "y = le.fit_transform(y)"
      ],
      "metadata": {
        "id": "lpVa8_Fp1Y4T"
      },
      "execution_count": 22,
      "outputs": []
    },
    {
      "cell_type": "code",
      "source": [
        "print(y)"
      ],
      "metadata": {
        "colab": {
          "base_uri": "https://localhost:8080/"
        },
        "id": "YOy0kE3_4OrR",
        "outputId": "f0a7365d-2740-4f14-8c81-24eb1f8264eb"
      },
      "execution_count": 23,
      "outputs": [
        {
          "output_type": "stream",
          "name": "stdout",
          "text": [
            "[1 0 1 0 1 0 1 0 1 1]\n"
          ]
        }
      ]
    },
    {
      "cell_type": "markdown",
      "metadata": {
        "id": "3abSxRqvWEIB"
      },
      "source": [
        "## Splitting the dataset into the Training set and Test set"
      ]
    },
    {
      "cell_type": "code",
      "metadata": {
        "id": "hm48sif-WWsh"
      },
      "source": [
        "from sklearn.model_selection import train_test_split\n",
        "x_train, x_test, y_train, y_test = train_test_split(x, y, test_size = 0.2, random_state = 1)"
      ],
      "execution_count": 24,
      "outputs": []
    },
    {
      "cell_type": "code",
      "source": [
        "print(x_train)"
      ],
      "metadata": {
        "colab": {
          "base_uri": "https://localhost:8080/"
        },
        "id": "ob5QUhjV4shg",
        "outputId": "6c024027-3bc4-4672-b6e4-b229bee1c02a"
      },
      "execution_count": 25,
      "outputs": [
        {
          "output_type": "stream",
          "name": "stdout",
          "text": [
            "[[0.0 0.0 1.0 1.0 0.0 0.0 0.0 1.0 0.0 36.0 55000.0 730.0]\n",
            " [1.0 0.0 0.0 1.0 0.0 0.0 1.0 0.0 0.0 38.0 57000.0 750.0]\n",
            " [1.0 0.0 0.0 0.0 1.0 1.0 0.0 0.0 0.0 41.0 68000.0 720.0]\n",
            " [0.0 0.0 1.0 1.0 0.0 1.0 0.0 0.0 0.0 45.0 61875.0 710.0]\n",
            " [0.0 0.0 1.0 1.0 0.0 0.0 0.0 1.0 0.0 33.0 49000.0 680.0]\n",
            " [1.0 0.0 0.0 0.0 1.0 0.0 0.0 0.0 1.0 44.0 72000.0 710.0]\n",
            " [0.0 1.0 0.0 1.0 0.0 1.0 0.0 0.0 0.0 47.0 81000.0 710.0]\n",
            " [0.0 1.0 0.0 0.0 1.0 1.0 0.0 0.0 0.0 39.111111111111114 61000.0 690.0]]\n"
          ]
        }
      ]
    },
    {
      "cell_type": "code",
      "source": [
        "print(x_test)"
      ],
      "metadata": {
        "colab": {
          "base_uri": "https://localhost:8080/"
        },
        "id": "jlFV8Nl44sRQ",
        "outputId": "1e313b89-58e4-43ae-91ea-b7eae7051b6a"
      },
      "execution_count": 26,
      "outputs": [
        {
          "output_type": "stream",
          "name": "stdout",
          "text": [
            "[[0.0 1.0 0.0 0.0 1.0 0.0 0.0 0.0 1.0 29.0 52000.0 700.0]\n",
            " [0.0 0.0 1.0 0.0 1.0 0.0 0.0 1.0 0.0 39.0 61875.0 700.0]]\n"
          ]
        }
      ]
    },
    {
      "cell_type": "code",
      "source": [
        "print(y_train)"
      ],
      "metadata": {
        "colab": {
          "base_uri": "https://localhost:8080/"
        },
        "id": "FLjeMUZX4sKO",
        "outputId": "fb9ff26c-5e94-4944-cb52-d0914657fd46"
      },
      "execution_count": 27,
      "outputs": [
        {
          "output_type": "stream",
          "name": "stdout",
          "text": [
            "[1 1 1 0 0 0 1 0]\n"
          ]
        }
      ]
    },
    {
      "cell_type": "code",
      "source": [
        "print(y_test)"
      ],
      "metadata": {
        "colab": {
          "base_uri": "https://localhost:8080/"
        },
        "id": "JOremmaQ4r-R",
        "outputId": "2bf68a19-fd09-46e6-fce7-fa975f953e03"
      },
      "execution_count": 28,
      "outputs": [
        {
          "output_type": "stream",
          "name": "stdout",
          "text": [
            "[1 1]\n"
          ]
        }
      ]
    },
    {
      "cell_type": "markdown",
      "source": [
        "## Feature Scalling"
      ],
      "metadata": {
        "id": "PtQYynpZ48Yz"
      }
    },
    {
      "cell_type": "code",
      "source": [
        "from sklearn.preprocessing import StandardScaler\n",
        "sc = StandardScaler()\n",
        "x_train[:,9:] = sc.fit_transform(x_train[:,9:])\n",
        "x_test[:,9:] = sc.transform(x_test[:,9:])"
      ],
      "metadata": {
        "id": "sv0lGwN74_hE"
      },
      "execution_count": 29,
      "outputs": []
    },
    {
      "cell_type": "code",
      "source": [
        "print(x_train)"
      ],
      "metadata": {
        "colab": {
          "base_uri": "https://localhost:8080/"
        },
        "id": "IGHbvcSp5o_O",
        "outputId": "dc4c7ea9-7e7e-43c9-c79d-989dd8923174"
      },
      "execution_count": 30,
      "outputs": [
        {
          "output_type": "stream",
          "name": "stdout",
          "text": [
            "[[0.0 0.0 1.0 1.0 0.0 0.0 0.0 1.0 0.0 -0.9826752396615944\n",
            "  -0.8482487309872694 0.8551861104941366]\n",
            " [1.0 0.0 0.0 1.0 0.0 0.0 1.0 0.0 0.0 -0.5348738646259308\n",
            "  -0.639046731822779 1.8325416653445785]\n",
            " [1.0 0.0 0.0 0.0 1.0 1.0 0.0 0.0 0.0 0.1368281979275646\n",
            "  0.5115642635819178 0.3665083330689157]\n",
            " [0.0 0.0 1.0 1.0 0.0 1.0 0.0 0.0 0.0 1.0324309479988918\n",
            "  -0.12911685885933388 -0.12216944435630524]\n",
            " [0.0 0.0 1.0 1.0 0.0 0.0 0.0 1.0 0.0 -1.6543773022150898\n",
            "  -1.4758547284807404 -1.588202776631968]\n",
            " [1.0 0.0 0.0 0.0 1.0 0.0 0.0 0.0 1.0 0.80853026048106 0.9299682619108984\n",
            "  -0.12216944435630524]\n",
            " [0.0 1.0 0.0 1.0 0.0 1.0 0.0 0.0 0.0 1.4802323230345553\n",
            "  1.871377258151105 -0.12216944435630524]\n",
            " [0.0 1.0 0.0 0.0 1.0 1.0 0.0 0.0 0.0 -0.28609532293945034\n",
            "  -0.2206427334937984 -1.099524999206747]]\n"
          ]
        }
      ]
    },
    {
      "cell_type": "code",
      "source": [
        "print(x_test)"
      ],
      "metadata": {
        "colab": {
          "base_uri": "https://localhost:8080/"
        },
        "id": "4R7EJviZ5rYp",
        "outputId": "3dc499fe-95b2-4c10-f75a-1f27e7e309b4"
      },
      "execution_count": 31,
      "outputs": [
        {
          "output_type": "stream",
          "name": "stdout",
          "text": [
            "[[0.0 1.0 0.0 0.0 1.0 0.0 0.0 0.0 1.0 -2.549980052286417\n",
            "  -1.162051729734005 -0.6108472217815262]\n",
            " [0.0 0.0 1.0 0.0 1.0 0.0 0.0 1.0 0.0 -0.310973177108099\n",
            "  -0.12911685885933388 -0.6108472217815262]]\n"
          ]
        }
      ]
    }
  ]
}