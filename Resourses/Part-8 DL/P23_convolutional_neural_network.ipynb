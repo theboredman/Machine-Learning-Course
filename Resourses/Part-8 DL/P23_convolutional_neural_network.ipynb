{
 "cells": [
  {
   "cell_type": "markdown",
   "metadata": {
    "colab_type": "text",
    "id": "view-in-github"
   },
   "source": [
    "<a href=\"https://colab.research.google.com/github/theboredman/Machine-Learning-Course/blob/main/P23_convolutional_neural_network.ipynb\" target=\"_parent\"><img src=\"https://colab.research.google.com/assets/colab-badge.svg\" alt=\"Open In Colab\"/></a>"
   ]
  },
  {
   "cell_type": "markdown",
   "metadata": {
    "id": "3DR-eO17geWu"
   },
   "source": [
    "# Convolutional Neural Network"
   ]
  },
  {
   "cell_type": "markdown",
   "metadata": {
    "id": "EMefrVPCg-60"
   },
   "source": [
    "### Importing the libraries"
   ]
  },
  {
   "cell_type": "code",
   "execution_count": 1,
   "metadata": {
    "id": "sCV30xyVhFbE"
   },
   "outputs": [],
   "source": [
    "import tensorflow as tf\n",
    "from keras.preprocessing.image import ImageDataGenerator\n",
    "import os\n",
    "os.environ['KMP_DUPLICATE_LIB_OK']='True'"
   ]
  },
  {
   "cell_type": "code",
   "execution_count": 2,
   "metadata": {
    "colab": {
     "base_uri": "https://localhost:8080/",
     "height": 35
    },
    "id": "FIleuCAjoFD8",
    "outputId": "6962abb9-6d83-4c2a-cf3a-80d58cc42926"
   },
   "outputs": [
    {
     "data": {
      "text/plain": [
       "'2.10.0'"
      ]
     },
     "execution_count": 2,
     "metadata": {},
     "output_type": "execute_result"
    }
   ],
   "source": [
    "tf.__version__"
   ]
  },
  {
   "cell_type": "markdown",
   "metadata": {
    "id": "oxQxCBWyoGPE"
   },
   "source": [
    "## Part 1 - Data Preprocessing"
   ]
  },
  {
   "cell_type": "markdown",
   "metadata": {
    "id": "MvE-heJNo3GG"
   },
   "source": [
    "### Preprocessing the Training set"
   ]
  },
  {
   "cell_type": "code",
   "execution_count": 3,
   "metadata": {
    "id": "etDT3MF3aojn"
   },
   "outputs": [
    {
     "name": "stdout",
     "output_type": "stream",
     "text": [
      "Found 8000 images belonging to 2 classes.\n"
     ]
    }
   ],
   "source": [
    "train_datagen = ImageDataGenerator(\n",
    "    rescale = 1./255,\n",
    "    shear_range = 0.2,\n",
    "    zoom_range = 0.2,\n",
    "    horizontal_flip = True\n",
    ")\n",
    "training_set = train_datagen.flow_from_directory(\n",
    "        'dataset/training_set',\n",
    "        target_size=(64, 64),\n",
    "        batch_size=32,\n",
    "        class_mode='binary')"
   ]
  },
  {
   "cell_type": "markdown",
   "metadata": {
    "id": "mrCMmGw9pHys"
   },
   "source": [
    "### Preprocessing the Test set"
   ]
  },
  {
   "cell_type": "code",
   "execution_count": 4,
   "metadata": {
    "id": "xsPMS9G0cUzb"
   },
   "outputs": [
    {
     "name": "stdout",
     "output_type": "stream",
     "text": [
      "Found 2000 images belonging to 2 classes.\n"
     ]
    }
   ],
   "source": [
    "test_datagen = ImageDataGenerator(rescale=1./255)\n",
    "test_set = test_datagen.flow_from_directory(\n",
    "        'dataset/test_set',\n",
    "        target_size=(64, 64),\n",
    "        batch_size=32,\n",
    "        class_mode='binary')"
   ]
  },
  {
   "cell_type": "markdown",
   "metadata": {
    "id": "af8O4l90gk7B"
   },
   "source": [
    "## Part 2 - Building the CNN"
   ]
  },
  {
   "cell_type": "markdown",
   "metadata": {
    "id": "ces1gXY2lmoX"
   },
   "source": [
    "### Initialising the CNN"
   ]
  },
  {
   "cell_type": "code",
   "execution_count": 5,
   "metadata": {
    "id": "2N-HgnNbc_9Z"
   },
   "outputs": [],
   "source": [
    "cnn = tf.keras.models.Sequential()\n"
   ]
  },
  {
   "cell_type": "markdown",
   "metadata": {
    "id": "u5YJj_XMl5LF"
   },
   "source": [
    "### Step 1 - Convolution"
   ]
  },
  {
   "cell_type": "code",
   "execution_count": 6,
   "metadata": {
    "id": "3K-IeQIzdNWH"
   },
   "outputs": [],
   "source": [
    "cnn.add(tf.keras.layers.Conv2D(filters = 32, kernel_size = 3, activation = 'relu', input_shape = [64, 64, 3]))"
   ]
  },
  {
   "cell_type": "markdown",
   "metadata": {
    "id": "tf87FpvxmNOJ"
   },
   "source": [
    "### Step 2 - Pooling"
   ]
  },
  {
   "cell_type": "code",
   "execution_count": 7,
   "metadata": {
    "id": "TYxSLstweT1G"
   },
   "outputs": [],
   "source": [
    "cnn.add(tf.keras.layers.MaxPooling2D(pool_size = 2, strides = 2))"
   ]
  },
  {
   "cell_type": "markdown",
   "metadata": {
    "id": "xaTOgD8rm4mU"
   },
   "source": [
    "### Adding a second convolutional layer"
   ]
  },
  {
   "cell_type": "code",
   "execution_count": 8,
   "metadata": {
    "id": "M8ZQHbeHe9cU"
   },
   "outputs": [],
   "source": [
    "cnn.add(tf.keras.layers.Conv2D(filters = 32, kernel_size = 3, activation = 'relu'))\n",
    "cnn.add(tf.keras.layers.MaxPooling2D(pool_size = 2, strides = 2))"
   ]
  },
  {
   "cell_type": "markdown",
   "metadata": {
    "id": "tmiEuvTunKfk"
   },
   "source": [
    "### Step 3 - Flattening"
   ]
  },
  {
   "cell_type": "code",
   "execution_count": 9,
   "metadata": {
    "id": "ltWbSqwVfGt8"
   },
   "outputs": [],
   "source": [
    "cnn.add(tf.keras.layers.Flatten())"
   ]
  },
  {
   "cell_type": "markdown",
   "metadata": {
    "id": "dAoSECOm203v"
   },
   "source": [
    "### Step 4 - Full Connection"
   ]
  },
  {
   "cell_type": "code",
   "execution_count": 10,
   "metadata": {
    "id": "-nqU75wYfSaP"
   },
   "outputs": [],
   "source": [
    "cnn.add(tf.keras.layers.Dense(units = 128, activation = 'relu'))"
   ]
  },
  {
   "cell_type": "markdown",
   "metadata": {
    "id": "yTldFvbX28Na"
   },
   "source": [
    "### Step 5 - Output Layer"
   ]
  },
  {
   "cell_type": "code",
   "execution_count": 11,
   "metadata": {
    "id": "a-fVJKicgFkf"
   },
   "outputs": [],
   "source": [
    "cnn.add(tf.keras.layers.Dense(units = 1, activation = 'sigmoid'))"
   ]
  },
  {
   "cell_type": "markdown",
   "metadata": {
    "id": "D6XkI90snSDl"
   },
   "source": [
    "## Part 3 - Training the CNN"
   ]
  },
  {
   "cell_type": "markdown",
   "metadata": {
    "id": "vfrFQACEnc6i"
   },
   "source": [
    "### Compiling the CNN"
   ]
  },
  {
   "cell_type": "code",
   "execution_count": 12,
   "metadata": {
    "id": "pN_lLcZLgiSu"
   },
   "outputs": [],
   "source": [
    "cnn.compile(optimizer = 'adam', loss=  'binary_crossentropy' , metrics = ['accuracy'])"
   ]
  },
  {
   "cell_type": "markdown",
   "metadata": {
    "id": "ehS-v3MIpX2h"
   },
   "source": [
    "### Training the CNN on the Training set and evaluating it on the Test set"
   ]
  },
  {
   "cell_type": "code",
   "execution_count": 13,
   "metadata": {
    "id": "bAXA0t76g2Gx"
   },
   "outputs": [
    {
     "name": "stdout",
     "output_type": "stream",
     "text": [
      "Epoch 1/25\n",
      "250/250 [==============================] - 75s 296ms/step - loss: 0.6513 - accuracy: 0.6148 - val_loss: 0.6448 - val_accuracy: 0.6435\n",
      "Epoch 2/25\n",
      "250/250 [==============================] - 53s 211ms/step - loss: 0.5747 - accuracy: 0.6940 - val_loss: 0.5448 - val_accuracy: 0.7255\n",
      "Epoch 3/25\n",
      "250/250 [==============================] - 53s 212ms/step - loss: 0.5381 - accuracy: 0.7274 - val_loss: 0.5701 - val_accuracy: 0.7135\n",
      "Epoch 4/25\n",
      "250/250 [==============================] - 53s 213ms/step - loss: 0.5104 - accuracy: 0.7475 - val_loss: 0.4875 - val_accuracy: 0.7645\n",
      "Epoch 5/25\n",
      "250/250 [==============================] - 65s 259ms/step - loss: 0.4871 - accuracy: 0.7663 - val_loss: 0.4991 - val_accuracy: 0.7535\n",
      "Epoch 6/25\n",
      "250/250 [==============================] - 62s 247ms/step - loss: 0.4695 - accuracy: 0.7707 - val_loss: 0.4958 - val_accuracy: 0.7590\n",
      "Epoch 7/25\n",
      "250/250 [==============================] - 51s 205ms/step - loss: 0.4521 - accuracy: 0.7856 - val_loss: 0.4834 - val_accuracy: 0.7785\n",
      "Epoch 8/25\n",
      "250/250 [==============================] - 49s 194ms/step - loss: 0.4318 - accuracy: 0.7976 - val_loss: 0.4373 - val_accuracy: 0.8010\n",
      "Epoch 9/25\n",
      "250/250 [==============================] - 47s 187ms/step - loss: 0.4190 - accuracy: 0.8081 - val_loss: 0.4559 - val_accuracy: 0.7930\n",
      "Epoch 10/25\n",
      "250/250 [==============================] - 46s 185ms/step - loss: 0.4125 - accuracy: 0.8083 - val_loss: 0.5178 - val_accuracy: 0.7610\n",
      "Epoch 11/25\n",
      "250/250 [==============================] - 47s 190ms/step - loss: 0.3942 - accuracy: 0.8171 - val_loss: 0.4356 - val_accuracy: 0.8155\n",
      "Epoch 12/25\n",
      "250/250 [==============================] - 47s 186ms/step - loss: 0.3844 - accuracy: 0.8221 - val_loss: 0.4289 - val_accuracy: 0.8100\n",
      "Epoch 13/25\n",
      "250/250 [==============================] - 45s 181ms/step - loss: 0.3709 - accuracy: 0.8301 - val_loss: 0.4420 - val_accuracy: 0.7980\n",
      "Epoch 14/25\n",
      "250/250 [==============================] - 47s 188ms/step - loss: 0.3649 - accuracy: 0.8339 - val_loss: 0.4232 - val_accuracy: 0.8165\n",
      "Epoch 15/25\n",
      "250/250 [==============================] - 45s 181ms/step - loss: 0.3570 - accuracy: 0.8350 - val_loss: 0.4563 - val_accuracy: 0.8075\n",
      "Epoch 16/25\n",
      "250/250 [==============================] - 46s 182ms/step - loss: 0.3387 - accuracy: 0.8484 - val_loss: 0.4417 - val_accuracy: 0.8190\n",
      "Epoch 17/25\n",
      "250/250 [==============================] - 58s 234ms/step - loss: 0.3305 - accuracy: 0.8522 - val_loss: 0.4153 - val_accuracy: 0.8125\n",
      "Epoch 18/25\n",
      "250/250 [==============================] - 67s 268ms/step - loss: 0.3132 - accuracy: 0.8605 - val_loss: 0.4234 - val_accuracy: 0.8160\n",
      "Epoch 19/25\n",
      "250/250 [==============================] - 64s 256ms/step - loss: 0.3014 - accuracy: 0.8692 - val_loss: 0.4790 - val_accuracy: 0.8135\n",
      "Epoch 20/25\n",
      "250/250 [==============================] - 71s 283ms/step - loss: 0.2952 - accuracy: 0.8755 - val_loss: 0.4676 - val_accuracy: 0.8035\n",
      "Epoch 21/25\n",
      "250/250 [==============================] - 71s 285ms/step - loss: 0.2820 - accuracy: 0.8771 - val_loss: 0.4369 - val_accuracy: 0.8180\n",
      "Epoch 22/25\n",
      "250/250 [==============================] - 69s 276ms/step - loss: 0.2676 - accuracy: 0.8879 - val_loss: 0.4529 - val_accuracy: 0.8105\n",
      "Epoch 23/25\n",
      "250/250 [==============================] - 72s 288ms/step - loss: 0.2546 - accuracy: 0.8930 - val_loss: 0.4686 - val_accuracy: 0.8040\n",
      "Epoch 24/25\n",
      "250/250 [==============================] - 73s 293ms/step - loss: 0.2482 - accuracy: 0.8936 - val_loss: 0.4457 - val_accuracy: 0.8190\n",
      "Epoch 25/25\n",
      "250/250 [==============================] - 66s 264ms/step - loss: 0.2249 - accuracy: 0.9054 - val_loss: 0.4822 - val_accuracy: 0.8200\n"
     ]
    },
    {
     "data": {
      "text/plain": [
       "<keras.callbacks.History at 0x23585016400>"
      ]
     },
     "execution_count": 13,
     "metadata": {},
     "output_type": "execute_result"
    }
   ],
   "source": [
    "cnn.fit(x = training_set, validation_data = test_set, epochs = 25)"
   ]
  },
  {
   "cell_type": "markdown",
   "metadata": {
    "id": "U3PZasO0006Z"
   },
   "source": [
    "## Part 4 - Making a single prediction"
   ]
  },
  {
   "cell_type": "code",
   "execution_count": 20,
   "metadata": {
    "id": "gvixm24vhvpu"
   },
   "outputs": [
    {
     "name": "stdout",
     "output_type": "stream",
     "text": [
      "1/1 [==============================] - 0s 75ms/step\n"
     ]
    }
   ],
   "source": [
    "import numpy as np\n",
    "import keras.utils as image\n",
    "test_image = image.load_img('dataset/single_prediction/idk2.jpg', target_size =(64,64))\n",
    "test_image = image.img_to_array(test_image)\n",
    "test_image = np.expand_dims(test_image, axis = 0)\n",
    "result = cnn.predict(test_image)\n",
    "training_set.class_indices\n",
    "if result[0][0] == 1:\n",
    "  prediction = 'dog'\n",
    "else:\n",
    "  prediction ='cat'"
   ]
  },
  {
   "cell_type": "code",
   "execution_count": 21,
   "metadata": {
    "id": "FNQfIushkKxq"
   },
   "outputs": [
    {
     "name": "stdout",
     "output_type": "stream",
     "text": [
      "cat\n"
     ]
    }
   ],
   "source": [
    "print(prediction)"
   ]
  }
 ],
 "metadata": {
  "colab": {
   "include_colab_link": true,
   "provenance": [],
   "toc_visible": true
  },
  "kernelspec": {
   "display_name": "TF",
   "language": "python",
   "name": "python3"
  },
  "language_info": {
   "codemirror_mode": {
    "name": "ipython",
    "version": 3
   },
   "file_extension": ".py",
   "mimetype": "text/x-python",
   "name": "python",
   "nbconvert_exporter": "python",
   "pygments_lexer": "ipython3",
   "version": "3.9.18"
  }
 },
 "nbformat": 4,
 "nbformat_minor": 4
}
